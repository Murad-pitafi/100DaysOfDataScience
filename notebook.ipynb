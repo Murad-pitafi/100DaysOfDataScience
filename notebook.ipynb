{
  "nbformat": 4,
  "nbformat_minor": 0,
  "metadata": {
    "colab": {
      "provenance": [],
      "authorship_tag": "ABX9TyPaCjUkI9ux2bWtdA9i0qpE",
      "include_colab_link": true
    },
    "kernelspec": {
      "name": "python3",
      "display_name": "Python 3"
    },
    "language_info": {
      "name": "python"
    }
  },
  "cells": [
    {
      "cell_type": "markdown",
      "metadata": {
        "id": "view-in-github",
        "colab_type": "text"
      },
      "source": [
        "<a href=\"https://colab.research.google.com/github/Murad-pitafi/100DaysOfDataScience/blob/main/notebook.ipynb\" target=\"_parent\"><img src=\"https://colab.research.google.com/assets/colab-badge.svg\" alt=\"Open In Colab\"/></a>"
      ]
    },
    {
      "cell_type": "code",
      "execution_count": 1,
      "metadata": {
        "id": "TXV5kSigau5Y"
      },
      "outputs": [],
      "source": [
        "import pandas as pd\n",
        "import numpy as np\n",
        "\n",
        "df = pd.read_csv('/content/sample_data/mnist_test.csv')\n"
      ]
    },
    {
      "cell_type": "code",
      "source": [
        "print(df.info())\n",
        "print(df.describe())\n",
        "print(df.shape)\n"
      ],
      "metadata": {
        "colab": {
          "base_uri": "https://localhost:8080/"
        },
        "id": "Wk6mB8hibuUo",
        "outputId": "19000475-52c9-4630-b7ea-e6074aa5aaa8"
      },
      "execution_count": 2,
      "outputs": [
        {
          "output_type": "stream",
          "name": "stdout",
          "text": [
            "<class 'pandas.core.frame.DataFrame'>\n",
            "RangeIndex: 9999 entries, 0 to 9998\n",
            "Columns: 785 entries, 7 to 0.667\n",
            "dtypes: int64(785)\n",
            "memory usage: 59.9 MB\n",
            "None\n",
            "                 7       0     0.1     0.2     0.3     0.4     0.5     0.6  \\\n",
            "count  9999.000000  9999.0  9999.0  9999.0  9999.0  9999.0  9999.0  9999.0   \n",
            "mean      4.443144     0.0     0.0     0.0     0.0     0.0     0.0     0.0   \n",
            "std       2.895897     0.0     0.0     0.0     0.0     0.0     0.0     0.0   \n",
            "min       0.000000     0.0     0.0     0.0     0.0     0.0     0.0     0.0   \n",
            "25%       2.000000     0.0     0.0     0.0     0.0     0.0     0.0     0.0   \n",
            "50%       4.000000     0.0     0.0     0.0     0.0     0.0     0.0     0.0   \n",
            "75%       7.000000     0.0     0.0     0.0     0.0     0.0     0.0     0.0   \n",
            "max       9.000000     0.0     0.0     0.0     0.0     0.0     0.0     0.0   \n",
            "\n",
            "          0.7     0.8  ...        0.658        0.659        0.660  \\\n",
            "count  9999.0  9999.0  ...  9999.000000  9999.000000  9999.000000   \n",
            "mean      0.0     0.0  ...     0.179318     0.163616     0.052605   \n",
            "std       0.0     0.0  ...     5.674433     5.736359     2.420125   \n",
            "min       0.0     0.0  ...     0.000000     0.000000     0.000000   \n",
            "25%       0.0     0.0  ...     0.000000     0.000000     0.000000   \n",
            "50%       0.0     0.0  ...     0.000000     0.000000     0.000000   \n",
            "75%       0.0     0.0  ...     0.000000     0.000000     0.000000   \n",
            "max       0.0     0.0  ...   253.000000   253.000000   156.000000   \n",
            "\n",
            "             0.661   0.662   0.663   0.664   0.665   0.666   0.667  \n",
            "count  9999.000000  9999.0  9999.0  9999.0  9999.0  9999.0  9999.0  \n",
            "mean      0.000600     0.0     0.0     0.0     0.0     0.0     0.0  \n",
            "std       0.060003     0.0     0.0     0.0     0.0     0.0     0.0  \n",
            "min       0.000000     0.0     0.0     0.0     0.0     0.0     0.0  \n",
            "25%       0.000000     0.0     0.0     0.0     0.0     0.0     0.0  \n",
            "50%       0.000000     0.0     0.0     0.0     0.0     0.0     0.0  \n",
            "75%       0.000000     0.0     0.0     0.0     0.0     0.0     0.0  \n",
            "max       6.000000     0.0     0.0     0.0     0.0     0.0     0.0  \n",
            "\n",
            "[8 rows x 785 columns]\n",
            "(9999, 785)\n"
          ]
        }
      ]
    },
    {
      "cell_type": "code",
      "source": [],
      "metadata": {
        "id": "KAGlhR8tcjHw"
      },
      "execution_count": null,
      "outputs": []
    }
  ]
}